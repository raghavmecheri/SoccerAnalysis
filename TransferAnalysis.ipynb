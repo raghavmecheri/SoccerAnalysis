{
 "cells": [
  {
   "cell_type": "code",
   "execution_count": 1,
   "metadata": {},
   "outputs": [],
   "source": [
    "import csv\n",
    "import matplotlib.pyplot as plt\n",
    "import numpy as np"
   ]
  },
  {
   "cell_type": "code",
   "execution_count": 2,
   "metadata": {},
   "outputs": [],
   "source": [
    "with open('dataset/fb_transfers.csv') as csvfile:\n",
    "    totalCount = 0\n",
    "    headerRow = []\n",
    "    componentRows = []\n",
    "    readCSV = csv.reader(csvfile, delimiter=',')\n",
    "    myPlayerDict = {}\n",
    "    for row in readCSV:\n",
    "        myTempRow = []\n",
    "        if totalCount==0:\n",
    "            for column in row:\n",
    "                headerRow.append(column)\n",
    "        else:\n",
    "            for column in row:\n",
    "                myTempRow.append(column)\n",
    "            componentRows.append(myTempRow)\n",
    "        totalCount += 1"
   ]
  },
  {
   "cell_type": "markdown",
   "metadata": {},
   "source": [
    "## Testing total count and data captured"
   ]
  },
  {
   "cell_type": "code",
   "execution_count": 3,
   "metadata": {},
   "outputs": [],
   "source": [
    "headerRow[0] = 'PLAYER'\n",
    "index = 0\n",
    "for element in headerRow:\n",
    "    headerRow[index] = (element.strip()).upper()\n",
    "    index += 1"
   ]
  },
  {
   "cell_type": "code",
   "execution_count": 4,
   "metadata": {},
   "outputs": [],
   "source": [
    "finalData = []\n",
    "for row in componentRows:\n",
    "    index = 0\n",
    "    saleDict = {}\n",
    "    for element in headerRow:\n",
    "        saleDict[element] = row[index].upper()\n",
    "        index += 1\n",
    "    finalData.append(saleDict)"
   ]
  },
  {
   "cell_type": "code",
   "execution_count": 5,
   "metadata": {},
   "outputs": [],
   "source": [
    "def filterTransactions(dataPassed, transaction):\n",
    "    salesOnly = []\n",
    "    for row in dataPassed:\n",
    "        if row['PRICE DESCRIPTION']==transaction:\n",
    "            salesOnly.append(row)\n",
    "    return salesOnly"
   ]
  },
  {
   "cell_type": "markdown",
   "metadata": {},
   "source": [
    "## Filtered Sale Data is now availible"
   ]
  },
  {
   "cell_type": "code",
   "execution_count": 6,
   "metadata": {},
   "outputs": [],
   "source": [
    "sales = filterTransactions(finalData, 'SOLD')\n",
    "loans = filterTransactions(finalData, 'LOAN')\n",
    "frees = filterTransactions(finalData, 'FREE')\n",
    "undisclosed = filterTransactions(finalData, 'UNDISCLOSED')"
   ]
  },
  {
   "cell_type": "code",
   "execution_count": 7,
   "metadata": {},
   "outputs": [
    {
     "data": {
      "text/plain": [
       "Text(0.5, 1.0, 'Total Player Transfers: 2017 - 2018')"
      ]
     },
     "execution_count": 7,
     "metadata": {},
     "output_type": "execute_result"
    },
    {
     "data": {
      "image/png": "[encoded data removed]",
      "text/plain": [
       "<Figure size 432x288 with 1 Axes>"
      ]
     },
     "metadata": {
      "needs_background": "light"
     },
     "output_type": "display_data"
    }
   ],
   "source": [
    "objects = ('Sales', 'Loans', 'Free Transfers', 'Undisclosed')\n",
    "y_pos = np.arange(len(objects))\n",
    "transactions = [len(sales), len(loans), len(frees), len(undisclosed)]\n",
    " \n",
    "plt.bar(y_pos, transactions, align='center', alpha=1)\n",
    "plt.xticks(y_pos, objects)\n",
    "plt.ylabel('Transfers')\n",
    "plt.title('Total Player Transfers: 2017 - 2018')"
   ]
  },
  {
   "cell_type": "markdown",
   "metadata": {},
   "source": [
    "## Get data of top clubs from 12 leagues, and return the same as a dict"
   ]
  },
  {
   "cell_type": "code",
   "execution_count": 8,
   "metadata": {},
   "outputs": [],
   "source": [
    "def fetchKey():\n",
    "    path = './dataset/myAPIKey.txt'\n",
    "    apikey_file = open(path,'r')\n",
    "    return apikey_file.read()"
   ]
  },
  {
   "cell_type": "code",
   "execution_count": 9,
   "metadata": {},
   "outputs": [],
   "source": [
    "import http.client\n",
    "import json\n",
    "def fetchTeamData():\n",
    "    myDataDict = {}\n",
    "    try:\n",
    "        myDataDict = np.load('my_file.npy').item()\n",
    "    except:\n",
    "        connection = http.client.HTTPConnection('api.football-data.org')\n",
    "        myAPIKey = fetchKey()\n",
    "        headers = { 'X-Auth-Token': myAPIKey }\n",
    "        counter = 0\n",
    "        masterTeamSet = {}\n",
    "        wantedCompetitions = [2021, 2014, 2015, 2002, 2017, 2145, 2001, 2019, 2003]\n",
    "        competitionTitles = [\"EPL\", \"LaLiga\", \"Ligue1\", \"Bundesliga\", \"Primera_Liga\", \"MLS\", \"UCL\", \"Serie_A\", \"Eredivisie\"]\n",
    "        for competition in wantedCompetitions:\n",
    "            connection.request('GET', '/v2/{myID}/competition}/teams'.format(myID=competition), None, headers )\n",
    "            response = json.loads(connection.getresponse().read().decode())\n",
    "            masterTeamSet[competitionTitles[counter]] = response\n",
    "        path = './dataset/myMasterFile.npy'\n",
    "        np.save(path, masterTeamSet)\n",
    "        return masterTeamSet\n",
    "    else:\n",
    "        return myDataDict"
   ]
  },
  {
   "cell_type": "markdown",
   "metadata": {},
   "source": [
    "## Use team data to try and rate inflation constants for the buyers and sellers"
   ]
  },
  {
   "cell_type": "code",
   "execution_count": null,
   "metadata": {},
   "outputs": [],
   "source": []
  }
 ],
 "metadata": {
  "kernelspec": {
   "display_name": "Python 3",
   "language": "python",
   "name": "python3"
  },
  "language_info": {
   "codemirror_mode": {
    "name": "ipython",
    "version": 3
   },
   "file_extension": ".py",
   "mimetype": "text/x-python",
   "name": "python",
   "nbconvert_exporter": "python",
   "pygments_lexer": "ipython3",
   "version": "3.7.1"
  }
 },
 "nbformat": 4,
 "nbformat_minor": 2
}
