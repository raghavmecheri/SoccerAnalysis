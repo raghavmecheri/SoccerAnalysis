{
 "cells": [
  {
   "cell_type": "code",
   "execution_count": 1,
   "metadata": {},
   "outputs": [],
   "source": [
    "import csv\n",
    "import matplotlib.pyplot as plt\n",
    "import numpy as np\n",
    "import http.client\n",
    "import json\n",
    "import os"
   ]
  },
  {
   "cell_type": "code",
   "execution_count": 2,
   "metadata": {},
   "outputs": [],
   "source": [
    "with open('dataset/fb_transfers.csv') as csvfile:\n",
    "    totalCount = 0\n",
    "    headerRow = []\n",
    "    componentRows = []\n",
    "    readCSV = csv.reader(csvfile, delimiter=',')\n",
    "    myPlayerDict = {}\n",
    "    for row in readCSV:\n",
    "        myTempRow = []\n",
    "        if totalCount==0:\n",
    "            for column in row:\n",
    "                headerRow.append(column)\n",
    "        else:\n",
    "            for column in row:\n",
    "                myTempRow.append(column)\n",
    "            componentRows.append(myTempRow)\n",
    "        totalCount += 1"
   ]
  },
  {
   "cell_type": "markdown",
   "metadata": {},
   "source": [
    "## Testing total count and data captured"
   ]
  },
  {
   "cell_type": "code",
   "execution_count": 3,
   "metadata": {},
   "outputs": [],
   "source": [
    "headerRow[0] = 'PLAYER'\n",
    "index = 0\n",
    "for element in headerRow:\n",
    "    headerRow[index] = (element.strip()).upper()\n",
    "    index += 1"
   ]
  },
  {
   "cell_type": "code",
   "execution_count": 4,
   "metadata": {},
   "outputs": [],
   "source": [
    "finalData = []\n",
    "for row in componentRows:\n",
    "    index = 0\n",
    "    saleDict = {}\n",
    "    for element in headerRow:\n",
    "        saleDict[element] = row[index].upper()\n",
    "        index += 1\n",
    "    finalData.append(saleDict)"
   ]
  },
  {
   "cell_type": "code",
   "execution_count": 5,
   "metadata": {},
   "outputs": [],
   "source": [
    "def filterTransactions(dataPassed, transaction):\n",
    "    salesOnly = []\n",
    "    for row in dataPassed:\n",
    "        if row['PRICE DESCRIPTION'] == transaction:\n",
    "            salesOnly.append(row)\n",
    "    return salesOnly"
   ]
  },
  {
   "cell_type": "markdown",
   "metadata": {},
   "source": [
    "## Filtered Sale Data is now availible"
   ]
  },
  {
   "cell_type": "code",
   "execution_count": 6,
   "metadata": {},
   "outputs": [],
   "source": [
    "sales = filterTransactions(finalData, 'SOLD')\n",
    "loans = filterTransactions(finalData, 'LOAN')\n",
    "frees = filterTransactions(finalData, 'FREE')\n",
    "undisclosed = filterTransactions(finalData, 'UNDISCLOSED')"
   ]
  },
  {
   "cell_type": "code",
   "execution_count": 7,
   "metadata": {},
   "outputs": [
    {
     "data": {
      "text/plain": [
       "Text(0.5, 1.0, 'Total Player Transfers: 2017 - 2018')"
      ]
     },
     "execution_count": 7,
     "metadata": {},
     "output_type": "execute_result"
    },
    {
     "data": {
      "image/png": "[encoded data removed]",
      "text/plain": [
       "<Figure size 432x288 with 1 Axes>"
      ]
     },
     "metadata": {
      "needs_background": "light"
     },
     "output_type": "display_data"
    }
   ],
   "source": [
    "objects = ('Sales', 'Loans', 'Free Transfers', 'Undisclosed')\n",
    "y_pos = np.arange(len(objects))\n",
    "transactions = [len(sales), len(loans), len(frees), len(undisclosed)]\n",
    " \n",
    "plt.bar(y_pos, transactions, align='center', alpha=1)\n",
    "plt.xticks(y_pos, objects)\n",
    "plt.ylabel('Transfers')\n",
    "plt.title('Total Player Transfers: 2017 - 2018')"
   ]
  },
  {
   "cell_type": "markdown",
   "metadata": {},
   "source": [
    "## Function definitions to get and sanitise data from teams of the top 9 competitons"
   ]
  },
  {
   "cell_type": "code",
   "execution_count": 8,
   "metadata": {},
   "outputs": [],
   "source": [
    "def fetchKey():\n",
    "    path = './dataset/myAPIKey.txt'\n",
    "    apikey_file = open(path,'r')\n",
    "    return apikey_file.read()"
   ]
  },
  {
   "cell_type": "code",
   "execution_count": 9,
   "metadata": {},
   "outputs": [],
   "source": [
    "def clearData(path):\n",
    "    os.remove(path)"
   ]
  },
  {
   "cell_type": "code",
   "execution_count": 10,
   "metadata": {},
   "outputs": [],
   "source": [
    "def fetchTeamData():\n",
    "    myDataDict = {}\n",
    "    connection = http.client.HTTPConnection('api.football-data.org')\n",
    "    myAPIKey = fetchKey()\n",
    "    headers = { 'X-Auth-Token': myAPIKey }\n",
    "    counter = 0\n",
    "    masterTeamSet = {}\n",
    "    wantedCompetitions = [2021, 2014, 2015, 2002, 2017, 2001, 2019, 2003]\n",
    "    competitionTitles = [\"EPL\", \"LaLiga\", \"Ligue1\", \"Bundesliga\", \"Primera_Liga\", \"UCL\", \"Serie_A\", \"Eredivisie\"]\n",
    "    for competition in wantedCompetitions:\n",
    "        url = '/v2/competitions/{}/teams'.format(competition)\n",
    "        connection.request('GET', url, None, headers )\n",
    "        response = json.loads(connection.getresponse().read().decode())\n",
    "        masterTeamSet[competitionTitles[counter]] = response\n",
    "        counter += 1\n",
    "    return masterTeamSet"
   ]
  },
  {
   "cell_type": "code",
   "execution_count": 11,
   "metadata": {},
   "outputs": [],
   "source": [
    "def getTeamList(myData):\n",
    "    for key,value in myData.items():\n",
    "        for key2,value2 in value.items():\n",
    "            if(key2=='teams'):\n",
    "                myData[key] = value2\n",
    "    return myData"
   ]
  },
  {
   "cell_type": "code",
   "execution_count": 12,
   "metadata": {},
   "outputs": [],
   "source": [
    "def cleanTeamList(myData):\n",
    "    for key,value in myData.items():\n",
    "        league = []\n",
    "        for element in value:\n",
    "            freshElement = {}\n",
    "            if type(element) is dict:\n",
    "                freshElement['name'] = element['name']\n",
    "                freshElement['shortName'] = element['shortName']\n",
    "                freshElement['venue'] = element['venue']\n",
    "                league.append(freshElement)\n",
    "        myData[key]=league\n",
    "    return myData"
   ]
  },
  {
   "cell_type": "code",
   "execution_count": 13,
   "metadata": {},
   "outputs": [],
   "source": [
    "def getFreshData():\n",
    "    myData = fetchTeamData()\n",
    "    teamList = getTeamList(myData)    \n",
    "    cleanList = cleanTeamList(teamList)\n",
    "    return cleanList"
   ]
  },
  {
   "cell_type": "markdown",
   "metadata": {},
   "source": [
    "## Functions to parse this data, and scrape for stadium capacities"
   ]
  },
  {
   "cell_type": "code",
   "execution_count": 14,
   "metadata": {},
   "outputs": [],
   "source": [
    "def filterCapacityString(myString):\n",
    "    instances = 0\n",
    "    num = \"\"\n",
    "    for c in myString:\n",
    "        if c.isnumeric() or c==',':\n",
    "            instances += 1\n",
    "            if c != ',':\n",
    "                num += c\n",
    "        else:\n",
    "            if instances != 0:\n",
    "                return num\n",
    "    return num"
   ]
  },
  {
   "cell_type": "code",
   "execution_count": 15,
   "metadata": {},
   "outputs": [],
   "source": [
    "def getSERPKey():\n",
    "    path = './dataset/mySERPKey.txt'\n",
    "    apikey_file = open(path,'r')\n",
    "    return apikey_file.read()"
   ]
  },
  {
   "cell_type": "code",
   "execution_count": 16,
   "metadata": {},
   "outputs": [],
   "source": [
    "from lib.google_search_results import GoogleSearchResults\n",
    "def getCapacity(stadiumName):\n",
    "    myVal = '/000/'\n",
    "    mySERPKey = getSERPKey()\n",
    "    try:\n",
    "        queryTitle = stadiumName + \" capacity\"\n",
    "    except:\n",
    "        print(\"Exception, going to N/A\")\n",
    "        return myVal\n",
    "    query = GoogleSearchResults({\"q\": queryTitle, \"serp_api_key\": mySERPKey})\n",
    "    dictionary_results = query.get_dictionary()\n",
    "    resultDict = dictionary_results['organic_results'][0]\n",
    "    for key,value in resultDict.items():\n",
    "        if key=='rich_snippet':\n",
    "            target = value['bottom']\n",
    "            try:\n",
    "                myVal = (target['detected_extensions']['capacity'])\n",
    "            except:\n",
    "                myVal = (filterCapacityString(target['extensions'][0]))\n",
    "    return str(myVal)"
   ]
  },
  {
   "cell_type": "code",
   "execution_count": 17,
   "metadata": {},
   "outputs": [],
   "source": [
    "def clonePlusCapacity(valueDict):\n",
    "    newDict = {}\n",
    "    stadiumName = valueDict['venue']\n",
    "    newDict['name'] = valueDict['name']\n",
    "    newDict['shortName'] = valueDict['shortName']\n",
    "    newDict['venue'] = valueDict['venue']\n",
    "    myCapacity = getCapacity(stadiumName)\n",
    "    newDict['venue_capacity'] = myCapacity\n",
    "    return newDict"
   ]
  },
  {
   "cell_type": "code",
   "execution_count": 18,
   "metadata": {},
   "outputs": [],
   "source": [
    "def addCapacities(cleanList):\n",
    "    index = 0\n",
    "    for key,values in cleanList.items():\n",
    "        newValues = []\n",
    "        for value in values:\n",
    "            newValues.append(clonePlusCapacity(value))\n",
    "        cleanList[key] = newValues\n",
    "    return cleanList"
   ]
  },
  {
   "cell_type": "markdown",
   "metadata": {},
   "source": [
    "## Actually get the data, sanitise it, and store it for reuse- since it changes only every year"
   ]
  },
  {
   "cell_type": "code",
   "execution_count": 19,
   "metadata": {},
   "outputs": [],
   "source": [
    "cleanPath = './dataset/cleanMaster.npy'\n",
    "cleanList = {}\n",
    "#clearData(cleanPath)\n",
    "try:\n",
    "    cleanList = np.load(cleanPath).item()\n",
    "except:\n",
    "    print(\"No old data, fetching and cleaning new set...\")\n",
    "    cleanList = getFreshData()\n",
    "    cleanList = addCapacities(cleanList)\n",
    "    np.save(cleanPath, cleanList)"
   ]
  },
  {
   "cell_type": "code",
   "execution_count": 20,
   "metadata": {},
   "outputs": [],
   "source": [
    "def getTeamCount(cleanList):\n",
    "    counter = 0\n",
    "    for key,values in cleanList.items():\n",
    "        for value in values:\n",
    "            counter += 1\n",
    "    return counter"
   ]
  },
  {
   "cell_type": "code",
   "execution_count": 21,
   "metadata": {},
   "outputs": [
    {
     "data": {
      "text/plain": [
       "213"
      ]
     },
     "execution_count": 21,
     "metadata": {},
     "output_type": "execute_result"
    }
   ],
   "source": [
    "getTeamCount(cleanList) #To verify the count, should be 213"
   ]
  },
  {
   "cell_type": "code",
   "execution_count": 22,
   "metadata": {},
   "outputs": [],
   "source": [
    "def filterLeague(myKey):\n",
    "    for key,value in cleanList.items():\n",
    "        if(key==myKey):\n",
    "            return value"
   ]
  },
  {
   "cell_type": "code",
   "execution_count": 23,
   "metadata": {},
   "outputs": [],
   "source": [
    "leagueNames = [\"EPL\", \"LaLiga\", \"Ligue1\", \"Bundesliga\", \"Primera_Liga\", \"UCL\", \"Serie_A\", \"Eredivisie\"]\n",
    "teamCount = []\n",
    "for title in leagueNames:\n",
    "    teamCount.append(filterLeague(title))"
   ]
  },
  {
   "cell_type": "code",
   "execution_count": 24,
   "metadata": {},
   "outputs": [
    {
     "data": {
      "text/plain": [
       "Text(0.5, 1.0, 'Breakup of teams in each competiton')"
      ]
     },
     "execution_count": 24,
     "metadata": {},
     "output_type": "execute_result"
    },
    {
     "data": {
      "image/png": "[encoded data removed]",
      "text/plain": [
       "<Figure size 432x288 with 1 Axes>"
      ]
     },
     "metadata": {
      "needs_background": "light"
     },
     "output_type": "display_data"
    }
   ],
   "source": [
    "leagues = [\"EPL\", \"BBVA\", \"Ligue\", \"Bundes\", \"Prim\", \"UCL\", \"Serie\", \"Ere\"]\n",
    "objects = (leagues[0],leagues[1],leagues[2],leagues[3],leagues[4],leagues[5],leagues[6],leagues[7],)\n",
    "y_pos = np.arange(len(objects))\n",
    "teamCounts = [len(teamCount[0]),len(teamCount[1]),len(teamCount[2]),len(teamCount[3]),len(teamCount[4]),len(teamCount[5]),len(teamCount[6]),len(teamCount[7]),]\n",
    " \n",
    "plt.bar(y_pos, teamCounts, align='center', alpha=1)\n",
    "plt.xticks(y_pos, objects)\n",
    "plt.ylabel('Team Count')\n",
    "plt.title('Breakup of teams in each competiton')"
   ]
  },
  {
   "cell_type": "markdown",
   "metadata": {},
   "source": [
    "## First, consider the EPL - filter EPL transfers and their corresponding teams, to build a starting sample training set"
   ]
  },
  {
   "cell_type": "code",
   "execution_count": 25,
   "metadata": {},
   "outputs": [],
   "source": [
    "cleanEPL = cleanList['EPL']"
   ]
  },
  {
   "cell_type": "code",
   "execution_count": 26,
   "metadata": {},
   "outputs": [],
   "source": [
    "names = []\n",
    "shortNames = []\n",
    "for element in cleanEPL:\n",
    "    names.append(element['name'])\n",
    "    shortNames.append(element['shortName'])"
   ]
  },
  {
   "cell_type": "code",
   "execution_count": 27,
   "metadata": {},
   "outputs": [],
   "source": [
    "eplSales= []\n",
    "for sale in finalData:\n",
    "    if sale['LEAGUE'] == \"EPL\":\n",
    "        eplSales.append(sale)"
   ]
  },
  {
   "cell_type": "code",
   "execution_count": 28,
   "metadata": {},
   "outputs": [],
   "source": [
    "eplSales = filterTransactions(eplSales, 'SOLD')"
   ]
  }
 ],
 "metadata": {
  "kernelspec": {
   "display_name": "Python 3",
   "language": "python",
   "name": "python3"
  },
  "language_info": {
   "codemirror_mode": {
    "name": "ipython",
    "version": 3
   },
   "file_extension": ".py",
   "mimetype": "text/x-python",
   "name": "python",
   "nbconvert_exporter": "python",
   "pygments_lexer": "ipython3",
   "version": "3.7.1"
  }
 },
 "nbformat": 4,
 "nbformat_minor": 2
}
